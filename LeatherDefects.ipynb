{
  "nbformat": 4,
  "nbformat_minor": 0,
  "metadata": {
    "colab": {
      "provenance": []
    },
    "kernelspec": {
      "name": "python3",
      "display_name": "Python 3"
    },
    "language_info": {
      "name": "python"
    },
    "accelerator": "GPU",
    "gpuClass": "standard"
  },
  "cells": [
    {
      "cell_type": "code",
      "source": [
        "gpus = tf.config.experimental.list_physical_devices"
      ],
      "metadata": {
        "id": "z2hleSD8s2JO"
      },
      "execution_count": null,
      "outputs": []
    },
    {
      "cell_type": "code",
      "source": [
        "gpus"
      ],
      "metadata": {
        "colab": {
          "base_uri": "https://localhost:8080/"
        },
        "id": "lKfF_zgZtYAg",
        "outputId": "fe9a2bb1-d035-438b-b75d-16436d099643"
      },
      "execution_count": null,
      "outputs": [
        {
          "output_type": "execute_result",
          "data": {
            "text/plain": [
              "<function tensorflow.python.framework.config.list_physical_devices>"
            ]
          },
          "metadata": {},
          "execution_count": 6
        }
      ]
    },
    {
      "cell_type": "code",
      "source": [
        "import cv2\n",
        "import imghdr\n",
        "import os\n",
        "import tensorflow as tf\n",
        "import numpy as np\n",
        "from matplotlib import pyplot as plt\n",
        "import cv2"
      ],
      "metadata": {
        "id": "sborQnXotZ2a"
      },
      "execution_count": null,
      "outputs": []
    },
    {
      "cell_type": "code",
      "source": [
        "data_dir = '/content/drive/MyDrive/LeatherDataset'"
      ],
      "metadata": {
        "id": "HSr87bMvo66y"
      },
      "execution_count": null,
      "outputs": []
    },
    {
      "cell_type": "code",
      "source": [
        "data = tf.keras.utils.image_dataset_from_directory(data_dir)"
      ],
      "metadata": {
        "colab": {
          "base_uri": "https://localhost:8080/"
        },
        "id": "ZWGQ9GRnM6xz",
        "outputId": "19c90aa7-4464-41bf-c769-7e0ca0e37e5f"
      },
      "execution_count": null,
      "outputs": [
        {
          "output_type": "stream",
          "name": "stdout",
          "text": [
            "Found 1200 files belonging to 2 classes.\n"
          ]
        }
      ]
    },
    {
      "cell_type": "code",
      "source": [
        "data = data.map(lambda x,y: (x/255, y))"
      ],
      "metadata": {
        "id": "Z0hHUtN6csIR"
      },
      "execution_count": null,
      "outputs": []
    },
    {
      "cell_type": "code",
      "source": [
        "scaled_iterator = data.as_numpy_iterator()"
      ],
      "metadata": {
        "id": "bGwx5-tsdEA5"
      },
      "execution_count": null,
      "outputs": []
    },
    {
      "cell_type": "code",
      "source": [
        "len(data)"
      ],
      "metadata": {
        "colab": {
          "base_uri": "https://localhost:8080/"
        },
        "id": "HufmU6Z7gN9-",
        "outputId": "3650051a-d68b-4f47-fbbd-46412e703114"
      },
      "execution_count": null,
      "outputs": [
        {
          "output_type": "execute_result",
          "data": {
            "text/plain": [
              "38"
            ]
          },
          "metadata": {},
          "execution_count": 7
        }
      ]
    },
    {
      "cell_type": "code",
      "source": [
        "train_size = 26\n",
        "val_size = 8\n",
        "test_size = 4"
      ],
      "metadata": {
        "id": "wLFeERysgSUN"
      },
      "execution_count": null,
      "outputs": []
    },
    {
      "cell_type": "code",
      "source": [
        "train_size+val_size+test_size"
      ],
      "metadata": {
        "colab": {
          "base_uri": "https://localhost:8080/"
        },
        "id": "gOFJPgswgQqJ",
        "outputId": "9ce2ab6e-7c9e-4061-d02d-a851f5ab1496"
      },
      "execution_count": null,
      "outputs": [
        {
          "output_type": "execute_result",
          "data": {
            "text/plain": [
              "38"
            ]
          },
          "metadata": {},
          "execution_count": 9
        }
      ]
    },
    {
      "cell_type": "code",
      "source": [
        "train = data.take(train_size)\n",
        "val = data.skip(train_size).take(val_size)\n",
        "test = data.skip(train_size+val_size).take(test_size)"
      ],
      "metadata": {
        "id": "1OD7XkOUgVfh"
      },
      "execution_count": null,
      "outputs": []
    },
    {
      "cell_type": "code",
      "source": [
        "#BUILDING THE MODEL NOW:\n",
        "from tensorflow.keras.models import Sequential\n",
        "from tensorflow.keras.layers import Conv2D, MaxPooling2D, Dense, Flatten, Dropout"
      ],
      "metadata": {
        "id": "uuCdt4_whRpU"
      },
      "execution_count": null,
      "outputs": []
    },
    {
      "cell_type": "code",
      "source": [
        "model = Sequential()"
      ],
      "metadata": {
        "id": "aDb52jLtkeFv"
      },
      "execution_count": null,
      "outputs": []
    },
    {
      "cell_type": "code",
      "source": [
        "model.add(Dropout(0.2, input_shape=(256,256,3)))\n",
        "\n",
        "model.add(Conv2D(16, (3,3), 1, activation = 'relu'))\n",
        "model.add(MaxPooling2D())\n",
        "\n",
        "model.add(Conv2D(32, (3,3), 1, activation = 'relu'))\n",
        "model.add(MaxPooling2D())\n",
        "\n",
        "model.add(Conv2D(16, (3,3), 1, activation = 'relu'))\n",
        "model.add(MaxPooling2D())\n",
        "\n",
        "model.add(Flatten())\n",
        "\n",
        "model.add(Dense(256, activation = 'relu'))\n",
        "model.add(Dense(1, activation = 'sigmoid'))"
      ],
      "metadata": {
        "id": "cImQ0RccAqLz"
      },
      "execution_count": null,
      "outputs": []
    },
    {
      "cell_type": "code",
      "source": [
        "model.compile('SGD', loss = tf.losses.BinaryCrossentropy(), metrics=['accuracy'])"
      ],
      "metadata": {
        "id": "jB0yAA43Bhyv"
      },
      "execution_count": null,
      "outputs": []
    },
    {
      "cell_type": "code",
      "source": [
        "model.summary()"
      ],
      "metadata": {
        "colab": {
          "base_uri": "https://localhost:8080/"
        },
        "id": "GXXR_KhDB96V",
        "outputId": "2b365e63-8bb1-41fb-ac4c-f0b6da340ab8"
      },
      "execution_count": null,
      "outputs": [
        {
          "output_type": "stream",
          "name": "stdout",
          "text": [
            "Model: \"sequential\"\n",
            "_________________________________________________________________\n",
            " Layer (type)                Output Shape              Param #   \n",
            "=================================================================\n",
            " dropout (Dropout)           (None, 256, 256, 3)       0         \n",
            "                                                                 \n",
            " conv2d (Conv2D)             (None, 254, 254, 16)      448       \n",
            "                                                                 \n",
            " max_pooling2d (MaxPooling2D  (None, 127, 127, 16)     0         \n",
            " )                                                               \n",
            "                                                                 \n",
            " conv2d_1 (Conv2D)           (None, 125, 125, 32)      4640      \n",
            "                                                                 \n",
            " max_pooling2d_1 (MaxPooling  (None, 62, 62, 32)       0         \n",
            " 2D)                                                             \n",
            "                                                                 \n",
            " conv2d_2 (Conv2D)           (None, 60, 60, 16)        4624      \n",
            "                                                                 \n",
            " max_pooling2d_2 (MaxPooling  (None, 30, 30, 16)       0         \n",
            " 2D)                                                             \n",
            "                                                                 \n",
            " flatten (Flatten)           (None, 14400)             0         \n",
            "                                                                 \n",
            " dense (Dense)               (None, 256)               3686656   \n",
            "                                                                 \n",
            " dense_1 (Dense)             (None, 1)                 257       \n",
            "                                                                 \n",
            "=================================================================\n",
            "Total params: 3,696,625\n",
            "Trainable params: 3,696,625\n",
            "Non-trainable params: 0\n",
            "_________________________________________________________________\n"
          ]
        }
      ]
    },
    {
      "cell_type": "code",
      "source": [
        "logdir = '/content/drive/MyDrive/Logs'\n",
        "tensorboard_callback = tf.keras.callbacks.TensorBoard(log_dir=logdir)"
      ],
      "metadata": {
        "id": "9ep_AfdOkw6R"
      },
      "execution_count": null,
      "outputs": []
    },
    {
      "cell_type": "code",
      "source": [
        "hist = model.fit(train, epochs = 100, validation_data = val, callbacks = [tensorboard_callback])"
      ],
      "metadata": {
        "colab": {
          "base_uri": "https://localhost:8080/"
        },
        "id": "sXTq7nGvpyp7",
        "outputId": "ba813a3d-d89d-420f-a48a-05abed0e5d8f"
      },
      "execution_count": null,
      "outputs": [
        {
          "output_type": "stream",
          "name": "stdout",
          "text": [
            "Epoch 1/100\n",
            "26/26 [==============================] - 5s 167ms/step - loss: 0.1653 - accuracy: 0.9195 - val_loss: 0.2983 - val_accuracy: 0.8164\n",
            "Epoch 2/100\n",
            "26/26 [==============================] - 5s 181ms/step - loss: 0.1729 - accuracy: 0.9087 - val_loss: 0.2758 - val_accuracy: 0.8633\n",
            "Epoch 3/100\n",
            "26/26 [==============================] - 5s 179ms/step - loss: 0.1721 - accuracy: 0.9002 - val_loss: 0.2744 - val_accuracy: 0.8086\n",
            "Epoch 4/100\n",
            "26/26 [==============================] - 5s 179ms/step - loss: 0.1558 - accuracy: 0.9255 - val_loss: 0.3146 - val_accuracy: 0.8008\n",
            "Epoch 5/100\n",
            "26/26 [==============================] - 5s 178ms/step - loss: 0.1687 - accuracy: 0.9183 - val_loss: 0.2549 - val_accuracy: 0.8438\n",
            "Epoch 6/100\n",
            "26/26 [==============================] - 8s 301ms/step - loss: 0.1731 - accuracy: 0.9050 - val_loss: 0.2534 - val_accuracy: 0.8828\n",
            "Epoch 7/100\n",
            "26/26 [==============================] - 5s 179ms/step - loss: 0.1476 - accuracy: 0.9279 - val_loss: 0.2356 - val_accuracy: 0.8438\n",
            "Epoch 8/100\n",
            "26/26 [==============================] - 5s 170ms/step - loss: 0.2096 - accuracy: 0.8930 - val_loss: 0.2476 - val_accuracy: 0.8320\n",
            "Epoch 9/100\n",
            "26/26 [==============================] - 5s 168ms/step - loss: 0.1595 - accuracy: 0.9159 - val_loss: 0.2666 - val_accuracy: 0.8320\n",
            "Epoch 10/100\n",
            "26/26 [==============================] - 5s 182ms/step - loss: 0.1433 - accuracy: 0.9303 - val_loss: 0.2545 - val_accuracy: 0.8711\n",
            "Epoch 11/100\n",
            "26/26 [==============================] - 5s 171ms/step - loss: 0.1580 - accuracy: 0.9231 - val_loss: 0.2213 - val_accuracy: 0.8359\n",
            "Epoch 12/100\n",
            "26/26 [==============================] - 5s 171ms/step - loss: 0.1489 - accuracy: 0.9279 - val_loss: 0.2901 - val_accuracy: 0.8203\n",
            "Epoch 13/100\n",
            "26/26 [==============================] - 5s 180ms/step - loss: 0.1587 - accuracy: 0.9267 - val_loss: 0.2763 - val_accuracy: 0.8086\n",
            "Epoch 14/100\n",
            "26/26 [==============================] - 5s 181ms/step - loss: 0.1720 - accuracy: 0.9171 - val_loss: 0.2547 - val_accuracy: 0.8164\n",
            "Epoch 15/100\n",
            "26/26 [==============================] - 5s 180ms/step - loss: 0.1276 - accuracy: 0.9447 - val_loss: 0.3210 - val_accuracy: 0.8047\n",
            "Epoch 16/100\n",
            "26/26 [==============================] - 5s 169ms/step - loss: 0.3752 - accuracy: 0.8570 - val_loss: 0.3241 - val_accuracy: 0.7695\n",
            "Epoch 17/100\n",
            "26/26 [==============================] - 5s 182ms/step - loss: 0.1650 - accuracy: 0.9183 - val_loss: 0.2350 - val_accuracy: 0.8555\n",
            "Epoch 18/100\n",
            "26/26 [==============================] - 5s 170ms/step - loss: 0.1323 - accuracy: 0.9387 - val_loss: 0.2872 - val_accuracy: 0.8008\n",
            "Epoch 19/100\n",
            "26/26 [==============================] - 5s 179ms/step - loss: 0.1242 - accuracy: 0.9375 - val_loss: 0.3169 - val_accuracy: 0.8008\n",
            "Epoch 20/100\n",
            "26/26 [==============================] - 5s 178ms/step - loss: 0.1321 - accuracy: 0.9351 - val_loss: 0.3042 - val_accuracy: 0.8438\n",
            "Epoch 21/100\n",
            "26/26 [==============================] - 5s 168ms/step - loss: 0.1218 - accuracy: 0.9495 - val_loss: 0.2758 - val_accuracy: 0.8633\n",
            "Epoch 22/100\n",
            "26/26 [==============================] - 5s 178ms/step - loss: 0.1235 - accuracy: 0.9483 - val_loss: 0.3442 - val_accuracy: 0.7930\n",
            "Epoch 23/100\n",
            "26/26 [==============================] - 5s 183ms/step - loss: 0.1208 - accuracy: 0.9459 - val_loss: 0.3432 - val_accuracy: 0.8203\n",
            "Epoch 24/100\n",
            "26/26 [==============================] - 5s 168ms/step - loss: 0.1213 - accuracy: 0.9399 - val_loss: 0.3558 - val_accuracy: 0.8906\n",
            "Epoch 25/100\n",
            "26/26 [==============================] - 5s 179ms/step - loss: 0.1144 - accuracy: 0.9567 - val_loss: 0.2512 - val_accuracy: 0.8242\n",
            "Epoch 26/100\n",
            "26/26 [==============================] - 5s 181ms/step - loss: 0.1263 - accuracy: 0.9435 - val_loss: 0.2159 - val_accuracy: 0.8477\n",
            "Epoch 27/100\n",
            "26/26 [==============================] - 5s 170ms/step - loss: 0.1018 - accuracy: 0.9603 - val_loss: 0.2840 - val_accuracy: 0.9023\n",
            "Epoch 28/100\n",
            "26/26 [==============================] - 5s 167ms/step - loss: 0.1158 - accuracy: 0.9435 - val_loss: 0.3928 - val_accuracy: 0.8789\n",
            "Epoch 29/100\n",
            "26/26 [==============================] - 5s 169ms/step - loss: 0.8161 - accuracy: 0.8101 - val_loss: 0.5691 - val_accuracy: 0.7461\n",
            "Epoch 30/100\n",
            "26/26 [==============================] - 5s 169ms/step - loss: 0.3288 - accuracy: 0.8834 - val_loss: 0.4245 - val_accuracy: 0.7930\n",
            "Epoch 31/100\n",
            "26/26 [==============================] - 8s 284ms/step - loss: 0.2199 - accuracy: 0.9183 - val_loss: 0.3844 - val_accuracy: 0.8281\n",
            "Epoch 32/100\n",
            "26/26 [==============================] - 5s 180ms/step - loss: 0.1950 - accuracy: 0.9183 - val_loss: 0.4579 - val_accuracy: 0.7969\n",
            "Epoch 33/100\n",
            "26/26 [==============================] - 5s 169ms/step - loss: 0.1771 - accuracy: 0.9351 - val_loss: 0.3935 - val_accuracy: 0.8320\n",
            "Epoch 34/100\n",
            "26/26 [==============================] - 5s 179ms/step - loss: 0.1628 - accuracy: 0.9291 - val_loss: 0.4248 - val_accuracy: 0.8242\n",
            "Epoch 35/100\n",
            "26/26 [==============================] - 5s 179ms/step - loss: 0.1588 - accuracy: 0.9291 - val_loss: 0.1976 - val_accuracy: 0.9062\n",
            "Epoch 36/100\n",
            "26/26 [==============================] - 5s 166ms/step - loss: 0.1752 - accuracy: 0.9243 - val_loss: 0.4183 - val_accuracy: 0.8125\n",
            "Epoch 37/100\n",
            "26/26 [==============================] - 5s 182ms/step - loss: 0.1438 - accuracy: 0.9339 - val_loss: 0.3849 - val_accuracy: 0.8398\n",
            "Epoch 38/100\n",
            "26/26 [==============================] - 5s 180ms/step - loss: 0.1468 - accuracy: 0.9315 - val_loss: 0.4427 - val_accuracy: 0.7891\n",
            "Epoch 39/100\n",
            "26/26 [==============================] - 5s 183ms/step - loss: 0.1386 - accuracy: 0.9315 - val_loss: 0.4207 - val_accuracy: 0.8438\n",
            "Epoch 40/100\n",
            "26/26 [==============================] - 5s 179ms/step - loss: 0.1220 - accuracy: 0.9507 - val_loss: 0.3229 - val_accuracy: 0.8477\n",
            "Epoch 41/100\n",
            "26/26 [==============================] - 5s 182ms/step - loss: 0.1971 - accuracy: 0.9351 - val_loss: 0.3301 - val_accuracy: 0.8125\n",
            "Epoch 42/100\n",
            "26/26 [==============================] - 5s 180ms/step - loss: 0.1124 - accuracy: 0.9555 - val_loss: 0.3181 - val_accuracy: 0.8047\n",
            "Epoch 43/100\n",
            "26/26 [==============================] - 5s 172ms/step - loss: 0.2480 - accuracy: 0.9123 - val_loss: 0.3324 - val_accuracy: 0.8281\n",
            "Epoch 44/100\n",
            "26/26 [==============================] - 5s 168ms/step - loss: 0.1119 - accuracy: 0.9507 - val_loss: 0.2672 - val_accuracy: 0.8867\n",
            "Epoch 45/100\n",
            "26/26 [==============================] - 5s 181ms/step - loss: 0.1146 - accuracy: 0.9495 - val_loss: 0.2569 - val_accuracy: 0.8945\n",
            "Epoch 46/100\n",
            "26/26 [==============================] - 5s 178ms/step - loss: 0.0908 - accuracy: 0.9639 - val_loss: 0.2234 - val_accuracy: 0.8984\n",
            "Epoch 47/100\n",
            "26/26 [==============================] - 5s 180ms/step - loss: 0.1174 - accuracy: 0.9543 - val_loss: 0.1738 - val_accuracy: 0.9062\n",
            "Epoch 48/100\n",
            "26/26 [==============================] - 5s 180ms/step - loss: 0.0876 - accuracy: 0.9688 - val_loss: 0.2606 - val_accuracy: 0.8750\n",
            "Epoch 49/100\n",
            "26/26 [==============================] - 5s 170ms/step - loss: 0.0880 - accuracy: 0.9675 - val_loss: 0.3975 - val_accuracy: 0.8398\n",
            "Epoch 50/100\n",
            "26/26 [==============================] - 5s 167ms/step - loss: 0.0969 - accuracy: 0.9627 - val_loss: 0.2704 - val_accuracy: 0.8750\n",
            "Epoch 51/100\n",
            "26/26 [==============================] - 5s 170ms/step - loss: 0.1241 - accuracy: 0.9375 - val_loss: 0.2626 - val_accuracy: 0.8789\n",
            "Epoch 52/100\n",
            "26/26 [==============================] - 5s 169ms/step - loss: 0.0937 - accuracy: 0.9651 - val_loss: 0.2357 - val_accuracy: 0.9141\n",
            "Epoch 53/100\n",
            "26/26 [==============================] - 5s 168ms/step - loss: 0.0950 - accuracy: 0.9627 - val_loss: 0.5480 - val_accuracy: 0.8359\n",
            "Epoch 54/100\n",
            "26/26 [==============================] - 5s 180ms/step - loss: 0.1555 - accuracy: 0.9267 - val_loss: 0.2004 - val_accuracy: 0.9258\n",
            "Epoch 55/100\n",
            "26/26 [==============================] - 5s 182ms/step - loss: 0.0736 - accuracy: 0.9675 - val_loss: 0.2950 - val_accuracy: 0.8984\n",
            "Epoch 56/100\n",
            "26/26 [==============================] - 5s 174ms/step - loss: 0.0788 - accuracy: 0.9627 - val_loss: 0.2135 - val_accuracy: 0.9336\n",
            "Epoch 57/100\n",
            "26/26 [==============================] - 6s 208ms/step - loss: 0.1042 - accuracy: 0.9591 - val_loss: 0.1960 - val_accuracy: 0.9258\n",
            "Epoch 58/100\n",
            "26/26 [==============================] - 5s 181ms/step - loss: 0.0623 - accuracy: 0.9772 - val_loss: 0.1538 - val_accuracy: 0.9336\n",
            "Epoch 59/100\n",
            "26/26 [==============================] - 5s 180ms/step - loss: 0.0587 - accuracy: 0.9784 - val_loss: 0.2138 - val_accuracy: 0.9102\n",
            "Epoch 60/100\n",
            "26/26 [==============================] - 5s 179ms/step - loss: 0.1067 - accuracy: 0.9543 - val_loss: 0.1562 - val_accuracy: 0.9258\n",
            "Epoch 61/100\n",
            "26/26 [==============================] - 5s 171ms/step - loss: 0.4164 - accuracy: 0.8966 - val_loss: 0.2837 - val_accuracy: 0.8906\n",
            "Epoch 62/100\n",
            "26/26 [==============================] - 5s 171ms/step - loss: 0.0851 - accuracy: 0.9748 - val_loss: 0.2038 - val_accuracy: 0.9219\n",
            "Epoch 63/100\n",
            "26/26 [==============================] - 5s 181ms/step - loss: 0.0748 - accuracy: 0.9724 - val_loss: 0.3040 - val_accuracy: 0.8750\n",
            "Epoch 64/100\n",
            "26/26 [==============================] - 5s 180ms/step - loss: 0.0551 - accuracy: 0.9808 - val_loss: 0.2998 - val_accuracy: 0.9180\n",
            "Epoch 65/100\n",
            "26/26 [==============================] - 5s 180ms/step - loss: 0.0899 - accuracy: 0.9615 - val_loss: 0.1981 - val_accuracy: 0.9141\n",
            "Epoch 66/100\n",
            "26/26 [==============================] - 5s 170ms/step - loss: 0.0568 - accuracy: 0.9820 - val_loss: 0.2347 - val_accuracy: 0.9180\n",
            "Epoch 67/100\n",
            "26/26 [==============================] - 5s 182ms/step - loss: 0.0647 - accuracy: 0.9772 - val_loss: 0.2752 - val_accuracy: 0.9258\n",
            "Epoch 68/100\n",
            "26/26 [==============================] - 5s 171ms/step - loss: 0.0418 - accuracy: 0.9892 - val_loss: 0.2543 - val_accuracy: 0.9336\n",
            "Epoch 69/100\n",
            "26/26 [==============================] - 5s 169ms/step - loss: 0.0610 - accuracy: 0.9796 - val_loss: 0.1842 - val_accuracy: 0.9062\n",
            "Epoch 70/100\n",
            "26/26 [==============================] - 5s 179ms/step - loss: 0.0370 - accuracy: 0.9916 - val_loss: 0.2924 - val_accuracy: 0.9219\n",
            "Epoch 71/100\n",
            "26/26 [==============================] - 5s 179ms/step - loss: 0.0605 - accuracy: 0.9796 - val_loss: 0.2200 - val_accuracy: 0.9336\n",
            "Epoch 72/100\n",
            "26/26 [==============================] - 5s 179ms/step - loss: 0.0486 - accuracy: 0.9844 - val_loss: 0.2368 - val_accuracy: 0.9336\n",
            "Epoch 73/100\n",
            "26/26 [==============================] - 5s 179ms/step - loss: 0.0356 - accuracy: 0.9904 - val_loss: 0.1917 - val_accuracy: 0.9375\n",
            "Epoch 74/100\n",
            "26/26 [==============================] - 5s 177ms/step - loss: 0.0286 - accuracy: 0.9964 - val_loss: 0.1898 - val_accuracy: 0.9414\n",
            "Epoch 75/100\n",
            "26/26 [==============================] - 5s 179ms/step - loss: 0.0342 - accuracy: 0.9892 - val_loss: 0.3004 - val_accuracy: 0.8945\n",
            "Epoch 76/100\n",
            "26/26 [==============================] - 5s 180ms/step - loss: 0.0665 - accuracy: 0.9772 - val_loss: 0.2059 - val_accuracy: 0.9180\n",
            "Epoch 77/100\n",
            "26/26 [==============================] - 5s 178ms/step - loss: 0.0300 - accuracy: 0.9904 - val_loss: 0.1702 - val_accuracy: 0.9414\n",
            "Epoch 78/100\n",
            "26/26 [==============================] - 5s 170ms/step - loss: 0.0256 - accuracy: 0.9904 - val_loss: 0.1886 - val_accuracy: 0.9375\n",
            "Epoch 79/100\n",
            "26/26 [==============================] - 5s 181ms/step - loss: 0.0296 - accuracy: 0.9904 - val_loss: 0.2292 - val_accuracy: 0.8984\n",
            "Epoch 80/100\n",
            "26/26 [==============================] - 5s 170ms/step - loss: 0.0582 - accuracy: 0.9856 - val_loss: 0.2817 - val_accuracy: 0.8984\n",
            "Epoch 81/100\n",
            "26/26 [==============================] - 5s 171ms/step - loss: 0.4889 - accuracy: 0.9014 - val_loss: 0.5904 - val_accuracy: 0.8672\n",
            "Epoch 82/100\n",
            "26/26 [==============================] - 6s 211ms/step - loss: 0.0583 - accuracy: 0.9880 - val_loss: 0.2232 - val_accuracy: 0.9180\n",
            "Epoch 83/100\n",
            "26/26 [==============================] - 5s 168ms/step - loss: 0.0396 - accuracy: 0.9880 - val_loss: 0.2780 - val_accuracy: 0.9258\n",
            "Epoch 84/100\n",
            "26/26 [==============================] - 5s 168ms/step - loss: 0.0322 - accuracy: 0.9904 - val_loss: 0.1729 - val_accuracy: 0.9375\n",
            "Epoch 85/100\n",
            "26/26 [==============================] - 5s 181ms/step - loss: 0.0261 - accuracy: 0.9964 - val_loss: 0.2056 - val_accuracy: 0.9023\n",
            "Epoch 86/100\n",
            "26/26 [==============================] - 5s 179ms/step - loss: 0.0429 - accuracy: 0.9892 - val_loss: 0.4677 - val_accuracy: 0.8164\n",
            "Epoch 87/100\n",
            "26/26 [==============================] - 5s 181ms/step - loss: 0.0299 - accuracy: 0.9904 - val_loss: 0.2069 - val_accuracy: 0.9180\n",
            "Epoch 88/100\n",
            "26/26 [==============================] - 5s 167ms/step - loss: 0.0191 - accuracy: 0.9988 - val_loss: 0.2629 - val_accuracy: 0.9258\n",
            "Epoch 89/100\n",
            "26/26 [==============================] - 5s 172ms/step - loss: 0.0188 - accuracy: 0.9976 - val_loss: 0.1927 - val_accuracy: 0.9492\n",
            "Epoch 90/100\n",
            "26/26 [==============================] - 5s 180ms/step - loss: 0.0462 - accuracy: 0.9892 - val_loss: 0.4435 - val_accuracy: 0.8672\n",
            "Epoch 91/100\n",
            "26/26 [==============================] - 5s 171ms/step - loss: 0.1541 - accuracy: 0.9591 - val_loss: 1.0163 - val_accuracy: 0.8047\n",
            "Epoch 92/100\n",
            "26/26 [==============================] - 5s 178ms/step - loss: 0.0487 - accuracy: 0.9880 - val_loss: 0.1868 - val_accuracy: 0.9258\n",
            "Epoch 93/100\n",
            "26/26 [==============================] - 5s 180ms/step - loss: 0.0283 - accuracy: 0.9904 - val_loss: 0.1311 - val_accuracy: 0.9531\n",
            "Epoch 94/100\n",
            "26/26 [==============================] - 5s 182ms/step - loss: 0.0243 - accuracy: 0.9928 - val_loss: 0.1994 - val_accuracy: 0.9297\n",
            "Epoch 95/100\n",
            "26/26 [==============================] - 5s 180ms/step - loss: 0.0190 - accuracy: 0.9940 - val_loss: 0.2143 - val_accuracy: 0.9219\n",
            "Epoch 96/100\n",
            "26/26 [==============================] - 5s 183ms/step - loss: 0.0235 - accuracy: 0.9940 - val_loss: 0.2308 - val_accuracy: 0.9258\n",
            "Epoch 97/100\n",
            "26/26 [==============================] - 5s 180ms/step - loss: 0.0295 - accuracy: 0.9940 - val_loss: 0.2687 - val_accuracy: 0.9258\n",
            "Epoch 98/100\n",
            "26/26 [==============================] - 5s 168ms/step - loss: 0.0185 - accuracy: 0.9964 - val_loss: 0.1303 - val_accuracy: 0.9414\n",
            "Epoch 99/100\n",
            "26/26 [==============================] - 5s 182ms/step - loss: 0.0513 - accuracy: 0.9796 - val_loss: 0.2774 - val_accuracy: 0.9258\n",
            "Epoch 100/100\n",
            "26/26 [==============================] - 5s 169ms/step - loss: 0.0199 - accuracy: 0.9940 - val_loss: 0.3268 - val_accuracy: 0.9219\n"
          ]
        }
      ]
    },
    {
      "cell_type": "code",
      "source": [
        "fig = plt.figure()\n",
        "plt.plot(hist.history['loss'], color = 'teal', label = 'loss')\n",
        "fig.suptitle('Loss', fontsize = 20)\n",
        "plt.legend(loc = \"upper left\")\n",
        "plt.show()"
      ],
      "metadata": {
        "colab": {
          "base_uri": "https://localhost:8080/",
          "height": 294
        },
        "id": "OVYe9mCyj1aB",
        "outputId": "8382c148-4c51-4518-c80d-7298ffc61b4e"
      },
      "execution_count": null,
      "outputs": [
        {
          "output_type": "display_data",
          "data": {
            "text/plain": [
              "<Figure size 432x288 with 1 Axes>"
            ],
            "image/png": "[encoded data removed]"
          },
          "metadata": {
            "needs_background": "light"
          }
        }
      ]
    },
    {
      "cell_type": "code",
      "source": [
        "fig = plt.figure()\n",
        "plt.plot(hist.history['accuracy'], color = 'teal', label = 'accuracy')\n",
        "fig.suptitle('Accuracy', fontsize = 20)\n",
        "plt.legend(loc = \"upper left\")\n",
        "plt.show()"
      ],
      "metadata": {
        "colab": {
          "base_uri": "https://localhost:8080/",
          "height": 294
        },
        "outputId": "845eae6f-0139-461e-9292-d92fe2c7a5c0",
        "id": "1KnLlTirk_QN"
      },
      "execution_count": null,
      "outputs": [
        {
          "output_type": "display_data",
          "data": {
            "text/plain": [
              "<Figure size 432x288 with 1 Axes>"
            ],
            "image/png": "[encoded data removed]"
          },
          "metadata": {
            "needs_background": "light"
          }
        }
      ]
    },
    {
      "cell_type": "code",
      "source": [
        "from tensorflow.keras.metrics import Precision, Recall, BinaryAccuracy\n",
        "pre = Precision()\n",
        "re = Recall()\n",
        "acc = BinaryAccuracy()"
      ],
      "metadata": {
        "id": "MjXo9VXPmjov"
      },
      "execution_count": null,
      "outputs": []
    },
    {
      "cell_type": "code",
      "source": [
        "for batch in test.as_numpy_iterator():\n",
        "  X, y = batch\n",
        "  yhat = model.predict(X)\n",
        "  pre.update_state(y, yhat)\n",
        "  re.update_state(y, yhat)\n",
        "  acc.update_state(y, yhat)\n"
      ],
      "metadata": {
        "id": "xhlbmSK9mOao"
      },
      "execution_count": null,
      "outputs": []
    },
    {
      "cell_type": "code",
      "source": [
        "print(\"Precision : \")\n",
        "print(pre.result().numpy())\n",
        "print(\"\\nRecall : \")\n",
        "print(re.result().numpy())\n",
        "print(\"\\nAccuracy : \")\n",
        "print(acc.result().numpy())"
      ],
      "metadata": {
        "colab": {
          "base_uri": "https://localhost:8080/"
        },
        "id": "5-M57c8tnMRH",
        "outputId": "eabe70c0-a518-4b1e-ca50-3d6252526946"
      },
      "execution_count": null,
      "outputs": [
        {
          "output_type": "stream",
          "name": "stdout",
          "text": [
            "Precision : \n",
            "0.9230769\n",
            "\n",
            "Recall : \n",
            "0.95238096\n",
            "\n",
            "Accuracy : \n",
            "0.9375\n"
          ]
        }
      ]
    },
    {
      "cell_type": "code",
      "source": [],
      "metadata": {
        "id": "GKFYNiFvs93o"
      },
      "execution_count": null,
      "outputs": []
    }
  ]
}